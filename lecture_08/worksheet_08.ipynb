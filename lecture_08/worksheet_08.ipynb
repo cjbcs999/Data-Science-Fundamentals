{
 "cells": [
  {
   "attachments": {},
   "cell_type": "markdown",
   "metadata": {},
   "source": [
    "# Worksheet 08\n",
    "\n",
    "Name: Chao-Jen, Chiu \n",
    "\n",
    "UID: U29089552\n",
    " \n",
    "\n",
    "### Topics\n",
    "\n",
    "- Soft Clustering\n",
    "- Clustering Aggregation\n",
    "\n",
    "### Probability Review\n",
    "\n",
    "Read through [the following](https://medium.com/@gallettilance/overview-of-probability-3272b72c82c8)\n",
    "\n",
    "### Soft Clustering\n",
    "\n",
    "We generate 10 data points that come from a normal distribution with mean 5 and variance 1."
   ]
  },
  {
   "cell_type": "code",
   "execution_count": 19,
   "metadata": {},
   "outputs": [
    {
     "name": "stdout",
     "output_type": "stream",
     "text": [
      "[5.77047752025307, 6.433918801717679, 6.092533869375476, 4.93631955278417, 6.215279366258548, 5.4456393874708375, 4.079128273498911, 3.864734090188887, 7.075818740006536, 4.777801628236898]\n"
     ]
    }
   ],
   "source": [
    "import random\n",
    "import numpy as np\n",
    "from sklearn.cluster import KMeans\n",
    "\n",
    "mean = 5\n",
    "stdev = 1\n",
    "\n",
    "c1 = np.random.normal(mean, stdev, 10).tolist()\n",
    "print(c1)"
   ]
  },
  {
   "cell_type": "markdown",
   "metadata": {},
   "source": [
    "a) Generate 10 more data points, this time coming from a normal distribution with mean 8 and variance 1."
   ]
  },
  {
   "cell_type": "code",
   "execution_count": 20,
   "metadata": {},
   "outputs": [
    {
     "name": "stdout",
     "output_type": "stream",
     "text": [
      "[7.383724607407848, 7.8346621313375024, 7.272320503402302, 7.126517344140005, 10.068107519602272, 7.335349778667307, 7.586332030574523, 9.06918512209086, 6.387265527685649, 8.033778759804315]\n"
     ]
    }
   ],
   "source": [
    "c2 = np.random.normal( 8, 1, 10 ).tolist()\n",
    "print(c2)"
   ]
  },
  {
   "cell_type": "markdown",
   "metadata": {},
   "source": [
    "b) Flip a fair coin 10 times. If the coin lands on H, then pick the last data point of `c1` and remove it from `c1`, if T then pick the last data point from `c2` and remove it from `c2`. Add these 10 points to a list called `data`."
   ]
  },
  {
   "cell_type": "code",
   "execution_count": 21,
   "metadata": {},
   "outputs": [
    {
     "name": "stdout",
     "output_type": "stream",
     "text": [
      "[8.033778759804315, 6.387265527685649, 9.06918512209086, 7.586332030574523, 4.777801628236898, 7.075818740006536, 3.864734090188887, 4.079128273498911, 7.335349778667307, 10.068107519602272]\n"
     ]
    }
   ],
   "source": [
    "data = []\n",
    "for i in range(10):\n",
    "    # flip coin\n",
    "    coin_output = random.choice([0, 1])\n",
    "    if coin_output == 0:\n",
    "        p1 = c1.pop()\n",
    "        data.append(p1)\n",
    "    else:\n",
    "        p2 = c2.pop()\n",
    "        data.append(p2)\n",
    "print(data)"
   ]
  },
  {
   "cell_type": "markdown",
   "metadata": {},
   "source": [
    "c) This `data` is a Gaussian Mixture Distribution with 2 mixture components. Over the next few questions we will walk through the GMM algorithm to see if we can uncover the parameters we used to generate this data. First, please list all these parameters of the GMM that created `data` and the values we know they have."
   ]
  },
  {
   "cell_type": "markdown",
   "metadata": {},
   "source": [
    "\n",
    "The parameters of a Gaussian Mixture Model (GMM) with 2 mixture components are:\n",
    "\n",
    "- Means: The mean of each Gaussian component.\n",
    "- Covariances: The covariance of each Gaussian component.\n",
    "- Weights: The weight of each Gaussian component.\n",
    "\n",
    "The values of these parameters that we know are:\n",
    "\n",
    "- Weights: The weights of the two Gaussian components are equal, since the data is generated from a 50/50 mixture of the two components."
   ]
  },
  {
   "cell_type": "markdown",
   "metadata": {},
   "source": [
    "d) Let's assume there are two mixture components (note: we could plot the data and make the observation that there are two clusters). The EM algorithm asks us to start with a random `mean_j`, `variance_j`, `P(C_j)` for each component j. One method we could use to find sensible values for these is to apply K means with k=2 here.\n",
    "\n",
    "1. the centroids would be the estimates of the `mean_j`\n",
    "2. the intra-cluster variance could be the estimate of `variance_j`\n",
    "3. the proportion of points in each cluster could be the estimate of `P(C_j)`\n",
    "\n",
    "Go through this process and list the parameter estimates it gives. Are they close or far from the true values?"
   ]
  },
  {
   "cell_type": "code",
   "execution_count": 22,
   "metadata": {},
   "outputs": [
    {
     "name": "stdout",
     "output_type": "stream",
     "text": [
      "[8.033778759804315, 6.387265527685649, 9.06918512209086, 7.586332030574523, 7.075818740006536, 7.335349778667307, 10.068107519602272]\n",
      "[4.777801628236898, 3.864734090188887, 4.079128273498911]\n",
      "P(C_1) = 0.7,  P(C_2) = 3.4285714285714284\n",
      "mean_1 = 7.936548211204495,  mean_2 = 4.2405546639748986\n",
      "var_1 = 1.351584031600104,  var_2 = 0.1519779612772291\n"
     ]
    },
    {
     "name": "stderr",
     "output_type": "stream",
     "text": [
      "/Users/cjchiu99/anaconda3/lib/python3.11/site-packages/sklearn/cluster/_kmeans.py:1412: FutureWarning: The default value of `n_init` will change from 10 to 'auto' in 1.4. Set the value of `n_init` explicitly to suppress the warning\n",
      "  super()._check_params_vs_input(X, default_n_init=10)\n"
     ]
    }
   ],
   "source": [
    "kmeans = KMeans(2, init='k-means++').fit(X=np.array(data).reshape(-1, 1))\n",
    "\n",
    "c1 = [x[0] for x in filter(lambda x: x[1] == 0, zip(data, kmeans.labels_))]\n",
    "print(c1)\n",
    "c2 = [x[0] for x in filter(lambda x: x[1] == 1, zip(data, kmeans.labels_))]\n",
    "print(c2)\n",
    "\n",
    "prob_c = [ len(c1) / (len(c1) + len(c2)) , len(c2)/len(c1)+len(c2) ]\n",
    "mean = [ sum(c1)/len(c1) , sum(c2)/len(c2) ]\n",
    "var = [ sum(map(lambda x : (x - mean[0])**2, c1)) / len(c1) ,sum(map(lambda x : (x - mean[1])**2, c2)) / len(c2) ]\n",
    "\n",
    "print(\"P(C_1) = \" + str(prob_c[0]) + \",  P(C_2) = \" + str(prob_c[1]))\n",
    "print(\"mean_1 = \" + str(mean[0]) + \",  mean_2 = \" + str(mean[1]))\n",
    "print(\"var_1 = \" + str(var[0]) + \",  var_2 = \" + str(var[1]))"
   ]
  },
  {
   "cell_type": "markdown",
   "metadata": {},
   "source": []
  },
  {
   "cell_type": "markdown",
   "metadata": {},
   "source": [
    "e) For each data point, compute `P(C_j | X_i)`. Comment on which cluster you think each point belongs to based on the estimated probabilities. How does that compare to the truth?"
   ]
  },
  {
   "cell_type": "code",
   "execution_count": 23,
   "metadata": {},
   "outputs": [
    {
     "name": "stdout",
     "output_type": "stream",
     "text": [
      "point =  8.033778759804315\n",
      "probability of observing that point if it came from cluster 0 =  0.2944036929389428\n",
      "probability of observing that point if it came from cluster 1 =  1.4010424775363007e-135\n",
      "point =  6.387265527685649\n",
      "probability of observing that point if it came from cluster 0 =  0.15302020100457603\n",
      "probability of observing that point if it came from cluster 1 =  1.2415592855115653e-43\n",
      "point =  9.06918512209086\n",
      "probability of observing that point if it came from cluster 0 =  0.20776582393412574\n",
      "probability of observing that point if it came from cluster 1 =  1.6553472551886623e-219\n",
      "point =  7.586332030574523\n",
      "probability of observing that point if it came from cluster 0 =  0.28542208936876273\n",
      "probability of observing that point if it came from cluster 1 =  1.5052084059385658e-105\n",
      "point =  4.777801628236898\n",
      "probability of observing that point if it came from cluster 0 =  0.019232301513937518\n",
      "probability of observing that point if it came from cluster 1 =  0.0050764424079795265\n",
      "point =  7.075818740006536\n",
      "probability of observing that point if it came from cluster 0 =  0.2409918607083157\n",
      "probability of observing that point if it came from cluster 1 =  6.978918059737803e-76\n",
      "point =  3.864734090188887\n",
      "probability of observing that point if it came from cluster 0 =  0.0031568939840956496\n",
      "probability of observing that point if it came from cluster 1 =  0.12338536189887095\n",
      "point =  4.079128273498911\n",
      "probability of observing that point if it came from cluster 0 =  0.005027301507560048\n",
      "probability of observing that point if it came from cluster 1 =  1.4932858445361425\n",
      "point =  7.335349778667307\n",
      "probability of observing that point if it came from cluster 0 =  0.267364101286587\n",
      "probability of observing that point if it came from cluster 1 =  2.369689082422728e-90\n",
      "point =  10.068107519602272\n",
      "probability of observing that point if it came from cluster 0 =  0.08511005038920826\n",
      "probability of observing that point if it came from cluster 1 =  1.39203e-319\n",
      "8.033778759804315\n",
      "Probability of coming from C_1 = 1.0\n",
      "Probability of coming from C_2 = 2.3308976871389773e-134\n",
      "\n",
      "6.387265527685649\n",
      "Probability of coming from C_1 = 1.0\n",
      "Probability of coming from C_2 = 3.9740548402263494e-42\n",
      "\n",
      "9.06918512209086\n",
      "Probability of coming from C_1 = 1.0\n",
      "Probability of coming from C_2 = 3.9023854535819355e-218\n",
      "\n",
      "7.586332030574523\n",
      "Probability of coming from C_1 = 1.0\n",
      "Probability of coming from C_2 = 2.582998867226483e-104\n",
      "\n",
      "4.777801628236898\n",
      "Probability of coming from C_1 = 0.43614113342069283\n",
      "Probability of coming from C_2 = 0.5638588665793072\n",
      "\n",
      "7.075818740006536\n",
      "Probability of coming from C_1 = 1.0\n",
      "Probability of coming from C_2 = 1.4184070657958904e-74\n",
      "\n",
      "3.864734090188887\n",
      "Probability of coming from C_1 = 0.005196590102439758\n",
      "Probability of coming from C_2 = 0.9948034098975602\n",
      "\n",
      "4.079128273498911\n",
      "Probability of coming from C_1 = 0.0006868761129429595\n",
      "Probability of coming from C_2 = 0.9993131238870571\n",
      "\n",
      "7.335349778667307\n",
      "Probability of coming from C_1 = 1.0\n",
      "Probability of coming from C_2 = 4.341136430751421e-89\n",
      "\n",
      "10.068107519602272\n",
      "Probability of coming from C_1 = 1.0\n",
      "Probability of coming from C_2 = 8.01093e-318\n",
      "\n"
     ]
    }
   ],
   "source": [
    "from scipy.stats import norm\n",
    "\n",
    "prob_c0_x = [] # P(C_0 | X_i)\n",
    "prob_c1_x = [] # P(C_1 | X_i)\n",
    "prob_x = [] # P(X_i)\n",
    "\n",
    "k = 2\n",
    "\n",
    "for p in data:\n",
    "    print(\"point = \", p)\n",
    "    pdf_i = []\n",
    "\n",
    "    for j in range(k):\n",
    "        # P(X_i | C_j)\n",
    "        pdf_i.append(norm.pdf(p, mean[j], var[j]))\n",
    "        print(\"probability of observing that point if it came from cluster \" + str(j) + \" = \", pdf_i[j])\n",
    "        # P(C_j) already computed\n",
    "        prob_c[j]\n",
    "\n",
    "    # P(X_i) = P(C_0)P(X_i | C_0) + P(C_1)P(X_i | C_1)\n",
    "    prob_x = prob_c[0] * pdf_i[0] + prob_c[1] * pdf_i[1]\n",
    "\n",
    "    # P(C_j | X_i) = P(X_i | C_j)P(C_j) / P(X_i)\n",
    "    prob_c0_x.append(pdf_i[0] * prob_c[0] / prob_x )\n",
    "    prob_c1_x.append(pdf_i[1] * prob_c[1] / prob_x )\n",
    "\n",
    "probs = zip(data, prob_c0_x, prob_c1_x)\n",
    "for p in probs:\n",
    "    print(p[0])\n",
    "    print(\"Probability of coming from C_1 = \" + str(p[1]))\n",
    "    print(\"Probability of coming from C_2 = \" + str(p[2]))\n",
    "    print()\n"
   ]
  },
  {
   "cell_type": "markdown",
   "metadata": {},
   "source": [
    "f) Having computed `P(C_j | X_i)`, update the estimates of `mean_j`, `var_j`, and `P(C_j)`. How different are these values from the original ones you got from K means? briefly comment."
   ]
  },
  {
   "cell_type": "code",
   "execution_count": 24,
   "metadata": {},
   "outputs": [
    {
     "name": "stdout",
     "output_type": "stream",
     "text": [
      "P(C_1) = 0.7442024599636075,  P(C_2) = 0.25579754003639243\n",
      "mean_1 = 7.748230043924343,  mean_2 = 4.1497595630988835\n",
      "var_1 = 1.8335361537589874,  var_2 = 0.1204895915431079\n"
     ]
    }
   ],
   "source": [
    "prob_c = [sum(prob_c0_x)/ len(prob_c0_x), sum(prob_c1_x)/ len(prob_c1_x) ]\n",
    "mean = [sum([x[0] * x[1] for x in zip(prob_c0_x, data)]) / sum(prob_c0_x), \n",
    "        sum([x[0] * x[1] for x in zip(prob_c1_x, data)]) / sum(prob_c1_x) ]\n",
    "var = [sum([x[0] * (x[1] - mean[0]) ** 2 for x in zip(prob_c0_x, data)]) / sum(prob_c0_x),\n",
    "       sum([x[0] * (x[1] - mean[1]) ** 2 for x in zip(prob_c1_x, data)]) / sum(prob_c1_x)]\n",
    "\n",
    "\n",
    "print(\"P(C_1) = \" + str(prob_c[0]) + \",  P(C_2) = \" + str(prob_c[1]))\n",
    "print(\"mean_1 = \" + str(mean[0]) + \",  mean_2 = \" + str(mean[1]))\n",
    "print(\"var_1 = \" + str(var[0]) + \",  var_2 = \" + str(var[1]))"
   ]
  },
  {
   "cell_type": "markdown",
   "metadata": {},
   "source": []
  },
  {
   "cell_type": "markdown",
   "metadata": {},
   "source": [
    "g) Update `P(C_j | X_i)`. Comment on any differences or lack thereof you observe."
   ]
  },
  {
   "cell_type": "code",
   "execution_count": 25,
   "metadata": {},
   "outputs": [
    {
     "name": "stdout",
     "output_type": "stream",
     "text": [
      "point =  8.033778759804315\n",
      "probability of observing that point if it came from cluster 0 =  0.2149581530535458\n",
      "probability of observing that point if it came from cluster 1 =  7.567903158352416e-226\n",
      "point =  6.387265527685649\n",
      "probability of observing that point if it came from cluster 0 =  0.16518957565679182\n",
      "probability of observing that point if it came from cluster 1 =  4.3339924937031686e-75\n",
      "point =  9.06918512209086\n",
      "probability of observing that point if it came from cluster 0 =  0.16784694488433113\n",
      "probability of observing that point if it came from cluster 1 =  0.0\n",
      "point =  7.586332030574523\n",
      "probability of observing that point if it came from cluster 0 =  0.2167342675219598\n",
      "probability of observing that point if it came from cluster 1 =  7.463823917891882e-177\n",
      "point =  4.777801628236898\n",
      "probability of observing that point if it came from cluster 0 =  0.05857348379411106\n",
      "probability of observing that point if it came from cluster 1 =  4.170831510186962e-06\n",
      "point =  7.075818740006536\n",
      "probability of observing that point if it came from cluster 0 =  0.20343064877112768\n",
      "probability of observing that point if it came from cluster 1 =  2.868217992429444e-128\n",
      "point =  3.864734090188887\n",
      "probability of observing that point if it came from cluster 0 =  0.0230930484593213\n",
      "probability of observing that point if it came from cluster 1 =  0.20175807746100324\n",
      "point =  4.079128273498911\n",
      "probability of observing that point if it came from cluster 0 =  0.0293812287283505\n",
      "probability of observing that point if it came from cluster 1 =  2.788312956543097\n",
      "point =  7.335349778667307\n",
      "probability of observing that point if it came from cluster 0 =  0.21213370049143473\n",
      "probability of observing that point if it came from cluster 1 =  5.404913669100827e-152\n",
      "point =  10.068107519602272\n",
      "probability of observing that point if it came from cluster 0 =  0.09772372810737696\n",
      "probability of observing that point if it came from cluster 1 =  0.0\n",
      "8.033778759804315\n",
      "Probability of coming from C_1 = 1.0\n",
      "Probability of coming from C_2 = 1.210115730605217e-225\n",
      "\n",
      "6.387265527685649\n",
      "Probability of coming from C_1 = 1.0\n",
      "Probability of coming from C_2 = 9.01801139268697e-75\n",
      "\n",
      "9.06918512209086\n",
      "Probability of coming from C_1 = 1.0\n",
      "Probability of coming from C_2 = 0.0\n",
      "\n",
      "7.586332030574523\n",
      "Probability of coming from C_1 = 1.0\n",
      "Probability of coming from C_2 = 1.1836929615656386e-176\n",
      "\n",
      "4.777801628236898\n",
      "Probability of coming from C_1 = 0.999975525365012\n",
      "Probability of coming from C_2 = 2.4474634988015287e-05\n",
      "\n",
      "7.075818740006536\n",
      "Probability of coming from C_1 = 1.0\n",
      "Probability of coming from C_2 = 4.846196661288634e-128\n",
      "\n",
      "3.864734090188887\n",
      "Probability of coming from C_1 = 0.249812815647326\n",
      "Probability of coming from C_2 = 0.750187184352674\n",
      "\n",
      "4.079128273498911\n",
      "Probability of coming from C_1 = 0.029744673792383793\n",
      "Probability of coming from C_2 = 0.9702553262076162\n",
      "\n",
      "7.335349778667307\n",
      "Probability of coming from C_1 = 1.0\n",
      "Probability of coming from C_2 = 8.757584893777828e-152\n",
      "\n",
      "10.068107519602272\n",
      "Probability of coming from C_1 = 1.0\n",
      "Probability of coming from C_2 = 0.0\n",
      "\n"
     ]
    }
   ],
   "source": [
    "prob_c0_x = [] # P(C_0 | X_i)\n",
    "prob_c1_x = [] # P(C_1 | X_i)\n",
    "prob_x = [] # P(X_i)\n",
    "\n",
    "k = 2\n",
    "\n",
    "for p in data:\n",
    "    print(\"point = \", p)\n",
    "    pdf_i = []\n",
    "\n",
    "    for j in range(k):\n",
    "        # P(X_i | C_j)\n",
    "        pdf_i.append(norm.pdf(p, mean[j], var[j]))\n",
    "        print(\"probability of observing that point if it came from cluster \" + str(j) + \" = \", pdf_i[j])\n",
    "        # P(C_j) already computed\n",
    "        prob_c[j]\n",
    "\n",
    "    # P(X_i) = P(C_0)P(X_i | C_0) + P(C_1)P(X_i | C_1)\n",
    "    prob_x = prob_c[0] * pdf_i[0] + prob_c[1] * pdf_i[1]\n",
    "\n",
    "    # P(C_j | X_i) = P(X_i | C_j)P(C_j) / P(X_i)\n",
    "    prob_c0_x.append(pdf_i[0] * prob_c[0] / prob_x )\n",
    "    prob_c1_x.append(pdf_i[1] * prob_c[1] / prob_x )\n",
    "\n",
    "probs = zip(data, prob_c0_x, prob_c1_x)\n",
    "for p in probs:\n",
    "    print(p[0])\n",
    "    print(\"Probability of coming from C_1 = \" + str(p[1]))\n",
    "    print(\"Probability of coming from C_2 = \" + str(p[2]))\n",
    "    print()"
   ]
  },
  {
   "cell_type": "markdown",
   "metadata": {},
   "source": []
  },
  {
   "cell_type": "markdown",
   "metadata": {},
   "source": [
    "h) Use `P(C_j | X_i)` to create a hard assignment - label each point as belonging to a specific cluster (0 or 1)"
   ]
  },
  {
   "cell_type": "code",
   "execution_count": 26,
   "metadata": {},
   "outputs": [
    {
     "name": "stdout",
     "output_type": "stream",
     "text": [
      "points in cluster 0 : [8.033778759804315, 6.387265527685649, 9.06918512209086, 7.586332030574523, 4.777801628236898, 7.075818740006536, 7.335349778667307, 10.068107519602272]\n",
      "points in cluster 1 : [3.864734090188887, 4.079128273498911]\n"
     ]
    }
   ],
   "source": [
    "assignments = [[], []]\n",
    "for x in zip(data, prob_c0_x):\n",
    "    p = x[1]\n",
    "    d = x[0]\n",
    "    if random.random() <= p:\n",
    "        assignments[0].append(d)\n",
    "    else:\n",
    "        assignments[1].append(d)\n",
    "print(f\"points in cluster 0 : {assignments[0]}\\npoints in cluster 1 : {assignments[1]}\")"
   ]
  }
 ],
 "metadata": {
  "interpreter": {
   "hash": "76ca05dc3ea24b2e3b98cdb7774adfbb40773424bf5109b477fd793f623715af"
  },
  "kernelspec": {
   "display_name": "Python 3.9.9 64-bit ('env': venv)",
   "language": "python",
   "name": "python3"
  },
  "language_info": {
   "codemirror_mode": {
    "name": "ipython",
    "version": 3
   },
   "file_extension": ".py",
   "mimetype": "text/x-python",
   "name": "python",
   "nbconvert_exporter": "python",
   "pygments_lexer": "ipython3",
   "version": "3.11.4"
  },
  "orig_nbformat": 4
 },
 "nbformat": 4,
 "nbformat_minor": 2
}
